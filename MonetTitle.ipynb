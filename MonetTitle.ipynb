{
 "cells": [
  {
   "cell_type": "code",
   "execution_count": 3,
   "id": "86b168cb-2d04-46fd-9f1d-4d8c00dfb5aa",
   "metadata": {},
   "outputs": [],
   "source": [
    "from selenium import webdriver\n",
    "from selenium.webdriver.support.ui import WebDriverWait\n",
    "from selenium.webdriver.support import expected_conditions as EC\n",
    "import requests\n",
    "import time\n",
    "from selenium.webdriver.common.by import By"
   ]
  },
  {
   "cell_type": "code",
   "execution_count": 4,
   "id": "9c33d649-9933-42ed-a8f2-a74324d46451",
   "metadata": {},
   "outputs": [
    {
     "name": "stdin",
     "output_type": "stream",
     "text": [
      "Search Messi\n"
     ]
    },
    {
     "name": "stderr",
     "output_type": "stream",
     "text": [
      "/var/folders/zn/6vhfp48x5k54d4vgndp2949h0000gn/T/ipykernel_54450/587214912.py:2: DeprecationWarning: executable_path has been deprecated, please pass in a Service object\n",
      "  driver = webdriver.Chrome('/Users/J.A.R.V.I.S./Desktop/chromedriver')\n"
     ]
    },
    {
     "name": "stdout",
     "output_type": "stream",
     "text": [
      "<selenium.webdriver.remote.webelement.WebElement (session=\"65af0899bd93de50e142c319a3770fa2\", element=\"b8999512-10c9-48bd-b268-05b25b933d8e\")>\n"
     ]
    }
   ],
   "source": [
    "#open google and enter search\n",
    "\n",
    "search = input(\"Search\")\n",
    "driver = webdriver.Chrome('/Users/J.A.R.V.I.S./Desktop/chromedriver')\n",
    "driver.implicitly_wait(10)\n",
    "driver.get(\"https://google.de\")\n",
    "driver.find_element(By.ID, \"L2AGLb\")\n",
    "time.sleep(5)\n",
    "search_box = driver.find_element(By.NAME, \"q\")\n",
    "search_box.send_keys(search)\n",
    "search_box.submit()\n",
    "time.sleep(5)\n",
    "results = driver.find_element(By.CSS_SELECTOR, \"div.g\")\n",
    "print(results)"
   ]
  },
  {
   "cell_type": "code",
   "execution_count": 5,
   "id": "e24e73b1-fa39-4d1c-a3c0-f4e9c4aa795e",
   "metadata": {},
   "outputs": [
    {
     "name": "stdout",
     "output_type": "stream",
     "text": [
      "\n",
      "https://www.transfermarkt.de/lionel-messi/profil/spieler/28003\n"
     ]
    }
   ],
   "source": [
    "# print \n",
    "\n",
    "results = driver.find_elements(By.XPATH, \"//div[@class='yuRUbf']//a\")\n",
    "href = results[0].get_attribute(\"href\")\n",
    "driver.get(href)\n",
    "get_title = driver.title\n",
    "print(get_title)\n",
    "print(href)\n",
    "driver.quit()"
   ]
  },
  {
   "cell_type": "code",
   "execution_count": null,
   "id": "20c05b73-ceae-492c-86f2-b493fd66e997",
   "metadata": {},
   "outputs": [],
   "source": []
  }
 ],
 "metadata": {
  "kernelspec": {
   "display_name": "Python 3 (ipykernel)",
   "language": "python",
   "name": "python3"
  },
  "language_info": {
   "codemirror_mode": {
    "name": "ipython",
    "version": 3
   },
   "file_extension": ".py",
   "mimetype": "text/x-python",
   "name": "python",
   "nbconvert_exporter": "python",
   "pygments_lexer": "ipython3",
   "version": "3.9.12"
  }
 },
 "nbformat": 4,
 "nbformat_minor": 5
}
